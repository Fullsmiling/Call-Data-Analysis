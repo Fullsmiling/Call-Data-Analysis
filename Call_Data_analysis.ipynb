{
 "cells": [
  {
   "cell_type": "markdown",
   "metadata": {},
   "source": [
    "# 음성 통화 데이터"
   ]
  },
  {
   "cell_type": "markdown",
   "metadata": {},
   "source": [
    "### KQ\n",
    "\"서울에 배달 음식점을 열고자 한다면 어떤 종류의 음식점이 좋을까?\""
   ]
  },
  {
   "cell_type": "markdown",
   "metadata": {},
   "source": [
    "- 문제 정의: 지역별로 사람들이 배달 주문을 많이 하는 음식점의 종류를 알고 싶다.\n",
    "- 검증 방식: 음성 통화 데이터를 활용하여 지역별로 어떤 종류의 음식을 가장 많이 주문하는지 확인."
   ]
  },
  {
   "cell_type": "markdown",
   "metadata": {},
   "source": [
    "#### 활용 데이터\n",
    "\n",
    " 칼럼명 | 의미 | 예시\n",
    "- | - | -\n",
    "일자(YYYYMMDD) | 통화 일자 | 20200921\n",
    "연령 | 나이 | 50\n",
    "성별 | 성별 | 여성\n",
    "발신지(시도) | 음성통화 발신지(시도) | 강원\n",
    "발신지(시군구) | 음성통화 발신지(시군구) | 강릉시\n",
    "대분류 | 통화 업종 대분류 | 생활편의\n",
    "중분류 | 통화 업종 중분류 | 생활서비스\n",
    "통화비율(시군구내) | 급여 (단위 : €유로) | 0.0001\n",
    "\n",
    " *출처 : SKT Data Hub, 음성통화 이용데이터 - 20년 09월 \n",
    " https://www.bigdatahub.co.kr/product/view.do?pid=1002333*"
   ]
  },
  {
   "cell_type": "code",
   "execution_count": 1,
   "metadata": {},
   "outputs": [],
   "source": [
    "import pandas as pd\n",
    "import numpy as np\n",
    "import matplotlib.pyplot as plt\n",
    "from matplotlib import font_manager, rc\n",
    "import sys\n",
    "import platform\n",
    "import warnings\n",
    "\n",
    "warnings.filterwarnings(action='ignore')\n",
    "\n",
    "pd.set_option('display.max_rows', 500)\n",
    "pd.set_option('display.max_columns', 500)\n",
    "pd.set_option('display.width', 1000)"
   ]
  },
  {
   "cell_type": "markdown",
   "metadata": {},
   "source": [
    "#### 음성 통화 데이터 확인"
   ]
  },
  {
   "cell_type": "code",
   "execution_count": 4,
   "metadata": {},
   "outputs": [
    {
     "data": {
      "text/plain": [
       "(561129, 8)"
      ]
     },
     "execution_count": 4,
     "metadata": {},
     "output_type": "execute_result"
    }
   ],
   "source": [
    "# 음성 통화 데이터 열기\n",
    "call_data = pd.read_csv('./data/call_data.csv')\n",
    "call_data.shape"
   ]
  },
  {
   "cell_type": "code",
   "execution_count": 5,
   "metadata": {},
   "outputs": [
    {
     "name": "stdout",
     "output_type": "stream",
     "text": [
      "<class 'pandas.core.frame.DataFrame'>\n",
      "RangeIndex: 561129 entries, 0 to 561128\n",
      "Data columns (total 8 columns):\n",
      " #   Column        Non-Null Count   Dtype  \n",
      "---  ------        --------------   -----  \n",
      " 0   일자(YYYYMMDD)  561129 non-null  int64  \n",
      " 1   연령            561129 non-null  int64  \n",
      " 2   성별            561129 non-null  object \n",
      " 3   발신지(시도)       561129 non-null  object \n",
      " 4   발신지(시군구)      561129 non-null  object \n",
      " 5   대분류           561129 non-null  object \n",
      " 6   중분류           561129 non-null  object \n",
      " 7   통화비율(시군구내)    561129 non-null  float64\n",
      "dtypes: float64(1), int64(2), object(5)\n",
      "memory usage: 34.2+ MB\n"
     ]
    }
   ],
   "source": [
    "call_data.info()"
   ]
  },
  {
   "cell_type": "code",
   "execution_count": 7,
   "metadata": {},
   "outputs": [
    {
     "data": {
      "text/html": [
       "<div>\n",
       "<style scoped>\n",
       "    .dataframe tbody tr th:only-of-type {\n",
       "        vertical-align: middle;\n",
       "    }\n",
       "\n",
       "    .dataframe tbody tr th {\n",
       "        vertical-align: top;\n",
       "    }\n",
       "\n",
       "    .dataframe thead th {\n",
       "        text-align: right;\n",
       "    }\n",
       "</style>\n",
       "<table border=\"1\" class=\"dataframe\">\n",
       "  <thead>\n",
       "    <tr style=\"text-align: right;\">\n",
       "      <th></th>\n",
       "      <th>일자(YYYYMMDD)</th>\n",
       "      <th>연령</th>\n",
       "      <th>성별</th>\n",
       "      <th>발신지(시도)</th>\n",
       "      <th>발신지(시군구)</th>\n",
       "      <th>대분류</th>\n",
       "      <th>중분류</th>\n",
       "      <th>통화비율(시군구내)</th>\n",
       "    </tr>\n",
       "  </thead>\n",
       "  <tbody>\n",
       "    <tr>\n",
       "      <th>0</th>\n",
       "      <td>20200921</td>\n",
       "      <td>50</td>\n",
       "      <td>여성</td>\n",
       "      <td>강원</td>\n",
       "      <td>강릉시</td>\n",
       "      <td>생활편의</td>\n",
       "      <td>생활서비스</td>\n",
       "      <td>0.0001</td>\n",
       "    </tr>\n",
       "    <tr>\n",
       "      <th>1</th>\n",
       "      <td>20200927</td>\n",
       "      <td>60</td>\n",
       "      <td>남성</td>\n",
       "      <td>강원</td>\n",
       "      <td>강릉시</td>\n",
       "      <td>생활편의</td>\n",
       "      <td>생활편의</td>\n",
       "      <td>0.0001</td>\n",
       "    </tr>\n",
       "    <tr>\n",
       "      <th>2</th>\n",
       "      <td>20200927</td>\n",
       "      <td>40</td>\n",
       "      <td>여성</td>\n",
       "      <td>강원</td>\n",
       "      <td>강릉시</td>\n",
       "      <td>음식점</td>\n",
       "      <td>중식</td>\n",
       "      <td>0.0001</td>\n",
       "    </tr>\n",
       "  </tbody>\n",
       "</table>\n",
       "</div>"
      ],
      "text/plain": [
       "   일자(YYYYMMDD)  연령  성별 발신지(시도) 발신지(시군구)   대분류    중분류  통화비율(시군구내)\n",
       "0      20200921  50  여성      강원      강릉시  생활편의  생활서비스      0.0001\n",
       "1      20200927  60  남성      강원      강릉시  생활편의   생활편의      0.0001\n",
       "2      20200927  40  여성      강원      강릉시   음식점     중식      0.0001"
      ]
     },
     "execution_count": 7,
     "metadata": {},
     "output_type": "execute_result"
    }
   ],
   "source": [
    "call_data.head(3)"
   ]
  },
  {
   "cell_type": "code",
   "execution_count": 9,
   "metadata": {},
   "outputs": [],
   "source": [
    "# 데이터 컬럼명 전처리\n",
    "call_data = call_data.rename(columns={'발신지(시도)':'구역','발신지(시군구)':'지역'})"
   ]
  },
  {
   "cell_type": "code",
   "execution_count": 10,
   "metadata": {},
   "outputs": [
    {
     "data": {
      "text/plain": [
       "array(['생활편의', '음식점', '서비스산업', '교통편의', '금융편의', '공공편의', '여행', '쇼핑', '의료편의',\n",
       "       '스포츠/레저', '교육/학문', '기업/단체', '이벤트', '건물/시설'], dtype=object)"
      ]
     },
     "execution_count": 10,
     "metadata": {},
     "output_type": "execute_result"
    }
   ],
   "source": [
    "call_data['대분류'].unique()"
   ]
  },
  {
   "cell_type": "code",
   "execution_count": 11,
   "metadata": {},
   "outputs": [
    {
     "data": {
      "text/html": [
       "<div>\n",
       "<style scoped>\n",
       "    .dataframe tbody tr th:only-of-type {\n",
       "        vertical-align: middle;\n",
       "    }\n",
       "\n",
       "    .dataframe tbody tr th {\n",
       "        vertical-align: top;\n",
       "    }\n",
       "\n",
       "    .dataframe thead th {\n",
       "        text-align: right;\n",
       "    }\n",
       "</style>\n",
       "<table border=\"1\" class=\"dataframe\">\n",
       "  <thead>\n",
       "    <tr style=\"text-align: right;\">\n",
       "      <th></th>\n",
       "      <th>일자(YYYYMMDD)</th>\n",
       "      <th>연령</th>\n",
       "      <th>성별</th>\n",
       "      <th>구역</th>\n",
       "      <th>지역</th>\n",
       "      <th>대분류</th>\n",
       "      <th>중분류</th>\n",
       "      <th>통화비율(시군구내)</th>\n",
       "    </tr>\n",
       "  </thead>\n",
       "  <tbody>\n",
       "    <tr>\n",
       "      <th>2</th>\n",
       "      <td>20200927</td>\n",
       "      <td>40</td>\n",
       "      <td>여성</td>\n",
       "      <td>강원</td>\n",
       "      <td>강릉시</td>\n",
       "      <td>음식점</td>\n",
       "      <td>중식</td>\n",
       "      <td>0.0001</td>\n",
       "    </tr>\n",
       "    <tr>\n",
       "      <th>5</th>\n",
       "      <td>20200919</td>\n",
       "      <td>40</td>\n",
       "      <td>여성</td>\n",
       "      <td>강원</td>\n",
       "      <td>강릉시</td>\n",
       "      <td>음식점</td>\n",
       "      <td>중식</td>\n",
       "      <td>0.0002</td>\n",
       "    </tr>\n",
       "    <tr>\n",
       "      <th>7</th>\n",
       "      <td>20200916</td>\n",
       "      <td>20</td>\n",
       "      <td>남성</td>\n",
       "      <td>강원</td>\n",
       "      <td>강릉시</td>\n",
       "      <td>음식점</td>\n",
       "      <td>한식</td>\n",
       "      <td>0.0001</td>\n",
       "    </tr>\n",
       "    <tr>\n",
       "      <th>8</th>\n",
       "      <td>20200914</td>\n",
       "      <td>40</td>\n",
       "      <td>남성</td>\n",
       "      <td>강원</td>\n",
       "      <td>강릉시</td>\n",
       "      <td>음식점</td>\n",
       "      <td>치킨</td>\n",
       "      <td>0.0001</td>\n",
       "    </tr>\n",
       "    <tr>\n",
       "      <th>18</th>\n",
       "      <td>20200919</td>\n",
       "      <td>50</td>\n",
       "      <td>여성</td>\n",
       "      <td>강원</td>\n",
       "      <td>강릉시</td>\n",
       "      <td>음식점</td>\n",
       "      <td>한식</td>\n",
       "      <td>0.0003</td>\n",
       "    </tr>\n",
       "    <tr>\n",
       "      <th>26</th>\n",
       "      <td>20200912</td>\n",
       "      <td>40</td>\n",
       "      <td>여성</td>\n",
       "      <td>강원</td>\n",
       "      <td>강릉시</td>\n",
       "      <td>음식점</td>\n",
       "      <td>분식</td>\n",
       "      <td>0.0001</td>\n",
       "    </tr>\n",
       "    <tr>\n",
       "      <th>29</th>\n",
       "      <td>20200902</td>\n",
       "      <td>30</td>\n",
       "      <td>여성</td>\n",
       "      <td>강원</td>\n",
       "      <td>강릉시</td>\n",
       "      <td>음식점</td>\n",
       "      <td>한식</td>\n",
       "      <td>0.0003</td>\n",
       "    </tr>\n",
       "    <tr>\n",
       "      <th>35</th>\n",
       "      <td>20200902</td>\n",
       "      <td>40</td>\n",
       "      <td>남성</td>\n",
       "      <td>강원</td>\n",
       "      <td>강릉시</td>\n",
       "      <td>음식점</td>\n",
       "      <td>한식</td>\n",
       "      <td>0.0003</td>\n",
       "    </tr>\n",
       "    <tr>\n",
       "      <th>36</th>\n",
       "      <td>20200918</td>\n",
       "      <td>40</td>\n",
       "      <td>여성</td>\n",
       "      <td>강원</td>\n",
       "      <td>강릉시</td>\n",
       "      <td>음식점</td>\n",
       "      <td>중식</td>\n",
       "      <td>0.0001</td>\n",
       "    </tr>\n",
       "    <tr>\n",
       "      <th>37</th>\n",
       "      <td>20200920</td>\n",
       "      <td>50</td>\n",
       "      <td>여성</td>\n",
       "      <td>강원</td>\n",
       "      <td>강릉시</td>\n",
       "      <td>음식점</td>\n",
       "      <td>한식</td>\n",
       "      <td>0.0002</td>\n",
       "    </tr>\n",
       "  </tbody>\n",
       "</table>\n",
       "</div>"
      ],
      "text/plain": [
       "    일자(YYYYMMDD)  연령  성별  구역   지역  대분류 중분류  통화비율(시군구내)\n",
       "2       20200927  40  여성  강원  강릉시  음식점  중식      0.0001\n",
       "5       20200919  40  여성  강원  강릉시  음식점  중식      0.0002\n",
       "7       20200916  20  남성  강원  강릉시  음식점  한식      0.0001\n",
       "8       20200914  40  남성  강원  강릉시  음식점  치킨      0.0001\n",
       "18      20200919  50  여성  강원  강릉시  음식점  한식      0.0003\n",
       "26      20200912  40  여성  강원  강릉시  음식점  분식      0.0001\n",
       "29      20200902  30  여성  강원  강릉시  음식점  한식      0.0003\n",
       "35      20200902  40  남성  강원  강릉시  음식점  한식      0.0003\n",
       "36      20200918  40  여성  강원  강릉시  음식점  중식      0.0001\n",
       "37      20200920  50  여성  강원  강릉시  음식점  한식      0.0002"
      ]
     },
     "execution_count": 11,
     "metadata": {},
     "output_type": "execute_result"
    }
   ],
   "source": [
    "# 음식점 관련 데이터만 추출\n",
    "food_call = call_data[call_data['대분류']=='음식점']\n",
    "food_call.head(10)"
   ]
  },
  {
   "cell_type": "code",
   "execution_count": 12,
   "metadata": {},
   "outputs": [
    {
     "data": {
      "text/plain": [
       "array(['강북구', '강서구', '관악구', '광진구', '노원구', '동작구', '마포구', '서초구', '성북구',\n",
       "       '영등포구', '용산구', '은평구', '종로구', '중구', '강남구', '강동구', '구로구', '금천구',\n",
       "       '도봉구', '동대문구', '서대문구', '성동구', '송파구', '양천구', '중랑구'], dtype=object)"
      ]
     },
     "execution_count": 12,
     "metadata": {},
     "output_type": "execute_result"
    }
   ],
   "source": [
    "# 서울 구역만 추출\n",
    "seoul = food_call[food_call['구역']=='서울']\n",
    "seoul['지역'].unique()"
   ]
  },
  {
   "cell_type": "code",
   "execution_count": 13,
   "metadata": {},
   "outputs": [
    {
     "name": "stdout",
     "output_type": "stream",
     "text": [
      "알아 보고싶은 지역명을 입력하세요.강북구\n"
     ]
    },
    {
     "data": {
      "text/plain": [
       "한식    168\n",
       "치킨     51\n",
       "중식     43\n",
       "양식      1\n",
       "Name: 중분류, dtype: int64"
      ]
     },
     "execution_count": 13,
     "metadata": {},
     "output_type": "execute_result"
    }
   ],
   "source": [
    "# 특정 지역을 입력받아 음식점 종류 확인\n",
    "name = input(\"알아 보고싶은 지역명을 입력하세요.\")\n",
    "\n",
    "location = seoul[seoul['지역']==name]\n",
    "location['중분류'].value_counts()"
   ]
  },
  {
   "cell_type": "code",
   "execution_count": 16,
   "metadata": {},
   "outputs": [
    {
     "name": "stdout",
     "output_type": "stream",
     "text": [
      "알아 보고싶은 지역명을 입력하세요.강남구\n"
     ]
    },
    {
     "data": {
      "text/plain": [
       "Text(0, 0.5, '주문 수')"
      ]
     },
     "execution_count": 16,
     "metadata": {},
     "output_type": "execute_result"
    },
    {
     "data": {
      "image/png": "[encoded data removed]",
      "text/plain": [
       "<Figure size 720x720 with 1 Axes>"
      ]
     },
     "metadata": {
      "needs_background": "light"
     },
     "output_type": "display_data"
    }
   ],
   "source": [
    "# 위 분석 내용 시각화하기\n",
    "name = input(\"알아 보고싶은 지역명을 입력하세요.\")\n",
    "location = seoul[seoul['지역']==name]\n",
    "\n",
    "food = location['중분류'].value_counts()\n",
    "\n",
    "fig, axes = plt.subplots(figsize=(10,10))\n",
    "axes.bar(food.index, food.values)\n",
    "axes.set_title(\"주문 그래프\", size=30)\n",
    "axes.set_xlabel(\"종류\", size=20)\n",
    "axes.set_ylabel(\"주문 수\", size=20)"
   ]
  },
  {
   "cell_type": "markdown",
   "metadata": {},
   "source": [
    "## 데이터 분석 결과를 통해 도출한 결론"
   ]
  },
  {
   "cell_type": "markdown",
   "metadata": {},
   "source": [
    "#### 데이터 분석 결과\n",
    " 1. 서울 강남구를 기준으로 가장 많이 주문하는 음식은 한식\n",
    " 2. 서울 강남구를 기준으로 한식, 치킨, 중식, 양식, 간식 순으로 주문수가 많음을 확인"
   ]
  },
  {
   "cell_type": "markdown",
   "metadata": {},
   "source": [
    "#### 결론\n",
    "\n",
    " 1. 데이터 분석 결과를 통해 서울 강남구의 한식의 주문량이 압도적으로 높음을 확인했으나 서울 강남구 이외에 타지역(수원, 수원시, 제주 제주시 등)도 마찬가지로 한식이 압도적으로 높았다.\n",
    "\n",
    " 2. 이를 통해 음성 통화 데이터 내 한식 카테고리가 광범위하게 설정되어 있다고 추측.\n",
    "\n",
    " 3. 데이터를 좀 더 세분화 할 수 있는 방법은 없을까 고민이 필요할 것 같다."
   ]
  }
 ],
 "metadata": {
  "kernelspec": {
   "display_name": "Python 3",
   "language": "python",
   "name": "python3"
  },
  "language_info": {
   "codemirror_mode": {
    "name": "ipython",
    "version": 3
   },
   "file_extension": ".py",
   "mimetype": "text/x-python",
   "name": "python",
   "nbconvert_exporter": "python",
   "pygments_lexer": "ipython3",
   "version": "3.8.5"
  }
 },
 "nbformat": 4,
 "nbformat_minor": 4
}
